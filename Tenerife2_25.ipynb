{
  "nbformat": 4,
  "nbformat_minor": 0,
  "metadata": {
    "colab": {
      "provenance": [],
      "authorship_tag": "ABX9TyOyhR4EtD9LB8ch+0Gq/7gv",
      "include_colab_link": true
    },
    "kernelspec": {
      "name": "python3",
      "display_name": "Python 3"
    },
    "language_info": {
      "name": "python"
    }
  },
  "cells": [
    {
      "cell_type": "markdown",
      "metadata": {
        "id": "view-in-github",
        "colab_type": "text"
      },
      "source": [
        "<a href=\"https://colab.research.google.com/github/GuilleGarciaAlvarez/Tenerife2023/blob/main/Tenerife2_25.ipynb\" target=\"_parent\"><img src=\"https://colab.research.google.com/assets/colab-badge.svg\" alt=\"Open In Colab\"/></a>"
      ]
    },
    {
      "cell_type": "code",
      "execution_count": 1,
      "metadata": {
        "id": "IztU8xyK12ld"
      },
      "outputs": [],
      "source": [
        "#Example notebook for Tenerife data cleaning"
      ]
    },
    {
      "cell_type": "code",
      "source": [],
      "metadata": {
        "id": "FjiSJtdG19Ya"
      },
      "execution_count": null,
      "outputs": []
    }
  ]
}